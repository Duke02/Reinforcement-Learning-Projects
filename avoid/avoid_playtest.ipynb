{
 "cells": [
  {
   "cell_type": "code",
   "execution_count": 1,
   "outputs": [],
   "source": [
    "import gymnasium as gym\n",
    "from avoid_environment import AvoidEnvironment\n",
    "from q_learning import QLearningAgent\n",
    "from gymnasium.envs.registration import register\n",
    "from gymnasium.utils.env_checker import check_env\n",
    "from tqdm import tqdm"
   ],
   "metadata": {
    "collapsed": false,
    "pycharm": {
     "name": "#%%\n"
    }
   }
  },
  {
   "cell_type": "code",
   "execution_count": 2,
   "outputs": [],
   "source": [
    "register('avoid/AvoidGrounds-v0', entry_point='avoid_environment:AvoidEnvironment', max_episode_steps=300)"
   ],
   "metadata": {
    "collapsed": false,
    "pycharm": {
     "name": "#%%\n"
    }
   }
  },
  {
   "cell_type": "code",
   "execution_count": 3,
   "outputs": [
    {
     "name": "stderr",
     "output_type": "stream",
     "text": [
      "/home/duke_trystan/miniconda3/envs/rl/lib/python3.10/site-packages/gymnasium/utils/passive_env_checker.py:35: UserWarning: \u001B[33mWARN: A Box observation space has an unconventional shape (neither an image, nor a 1D vector). We recommend flattening the observation to have only a 1D vector or use a custom policy to properly process the data. Actual observation shape: (3, 2)\u001B[0m\n",
      "  logger.warn(\n"
     ]
    },
    {
     "data": {
      "text/plain": "<TimeLimit<OrderEnforcing<PassiveEnvChecker<AvoidEnvironment<avoid/AvoidGrounds-v0>>>>>"
     },
     "execution_count": 3,
     "metadata": {},
     "output_type": "execute_result"
    }
   ],
   "source": [
    "env = gym.make('avoid/AvoidGrounds-v0', num_mobile_units=2, num_stationary_units=1, actor_seek_range=3, size=17)\n",
    "# check_results = check_env(env.unwrapped)\n",
    "# env.close()\n",
    "# check_results, env\n",
    "env"
   ],
   "metadata": {
    "collapsed": false,
    "pycharm": {
     "name": "#%%\n"
    }
   }
  },
  {
   "cell_type": "code",
   "execution_count": 4,
   "outputs": [],
   "source": [
    "learning_rate: float = 1e-3\n",
    "n_episodes: int = 50_000\n",
    "start_epsilon: float = 1.0\n",
    "epsilon_decay: float = start_epsilon / (n_episodes / 2)\n",
    "final_epsilon: float = 1e-1"
   ],
   "metadata": {
    "collapsed": false,
    "pycharm": {
     "name": "#%%\n"
    }
   }
  },
  {
   "cell_type": "code",
   "execution_count": null,
   "outputs": [
    {
     "name": "stderr",
     "output_type": "stream",
     "text": [
      " 86%|████████▋ | 43240/50000 [13:22<1:37:23,  1.16it/s]"
     ]
    }
   ],
   "source": [
    "env = gym.wrappers.RecordEpisodeStatistics(env=gym.make('avoid/AvoidGrounds-v0', num_mobile_units=2, num_stationary_units=1, actor_seek_range=3, size=17), deque_size=n_episodes)\n",
    "\n",
    "agent = QLearningAgent(env=env, learning_rate=learning_rate, initial_epsilon=start_epsilon, epsilon_decay=epsilon_decay, final_epsilon=final_epsilon)\n",
    "\n",
    "for episode in tqdm(range(n_episodes)):\n",
    "    obs, info = env.reset()\n",
    "    done: bool = False\n",
    "\n",
    "    while not done:\n",
    "        action = agent.get_action(obs)\n",
    "        next_obs, reward, terminated, truncated, info = env.step(action)\n",
    "\n",
    "        agent.update(obs, action, reward, terminated, next_obs)\n",
    "\n",
    "        done = terminated or truncated\n",
    "        obs = next_obs\n",
    "    agent.decay_epsilon()"
   ],
   "metadata": {
    "collapsed": false,
    "pycharm": {
     "name": "#%%\n",
     "is_executing": true
    }
   }
  },
  {
   "cell_type": "code",
   "execution_count": null,
   "outputs": [],
   "source": [
    "obs, info = env.reset(seed=140, options=dict(render_mode='human'))\n",
    "done: bool = False\n",
    "\n",
    "while not done:\n",
    "    action = agent.get_action(obs)\n",
    "    next_obs, reward, terminated, truncated, info = env.step(action)\n",
    "\n",
    "    agent.update(obs, action, reward, terminated, next_obs)\n",
    "\n",
    "    done = terminated or truncated\n",
    "    obs = next_obs\n",
    "\n",
    "    # env.render()"
   ],
   "metadata": {
    "collapsed": false,
    "pycharm": {
     "name": "#%%\n",
     "is_executing": true
    }
   }
  },
  {
   "cell_type": "code",
   "execution_count": null,
   "outputs": [],
   "source": [],
   "metadata": {
    "collapsed": false,
    "pycharm": {
     "name": "#%%\n",
     "is_executing": true
    }
   }
  }
 ],
 "metadata": {
  "kernelspec": {
   "display_name": "Python 3",
   "language": "python",
   "name": "python3"
  },
  "language_info": {
   "codemirror_mode": {
    "name": "ipython",
    "version": 2
   },
   "file_extension": ".py",
   "mimetype": "text/x-python",
   "name": "python",
   "nbconvert_exporter": "python",
   "pygments_lexer": "ipython2",
   "version": "2.7.6"
  }
 },
 "nbformat": 4,
 "nbformat_minor": 0
}